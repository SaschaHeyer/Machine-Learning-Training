{
  "nbformat": 4,
  "nbformat_minor": 0,
  "metadata": {
    "colab": {
      "name": "Named Entity Recognition Bi-LSTM.ipynb",
      "version": "0.3.2",
      "provenance": [],
      "collapsed_sections": [],
      "toc_visible": true
    },
    "kernelspec": {
      "name": "python3",
      "display_name": "Python 3"
    },
    "accelerator": "GPU"
  },
  "cells": [
    {
      "cell_type": "markdown",
      "metadata": {
        "id": "-oMZ8YDLKXWg",
        "colab_type": "text"
      },
      "source": [
        "# Named Entity Recognition using Keras on Google AI Platform\n",
        "\n",
        "[![Open In Colab](https://colab.research.google.com/assets/colab-badge.svg)](https://colab.research.google.com/github/SaschaHeyer/Machine-Learning-Training/blob/master/notebooks/named-entity-recognition/Named_Entity_Recognition_Bi_LSTM.ipynb)\n",
        "\n",
        "## Overview\n",
        "\n",
        "## Dataset"
      ]
    },
    {
      "cell_type": "markdown",
      "metadata": {
        "id": "UGJ5GqX8utqv",
        "colab_type": "text"
      },
      "source": [
        "### Authenticate\n",
        "\n",
        "Required to download the data and later deploy the model"
      ]
    },
    {
      "cell_type": "code",
      "metadata": {
        "id": "C6ayaUNZKXc3",
        "colab_type": "code",
        "colab": {}
      },
      "source": [
        "try:\n",
        " from google.colab import auth\n",
        " auth.authenticate_user()\n",
        "except:\n",
        " pass"
      ],
      "execution_count": 0,
      "outputs": []
    },
    {
      "cell_type": "markdown",
      "metadata": {
        "id": "wu5vw4F9KXjj",
        "colab_type": "text"
      },
      "source": [
        "### Autoreload\n",
        "\n",
        "To auto-reload modules in jupyter notebook \n",
        "(so that changes in files *.py doesn't require manual reloading):"
      ]
    },
    {
      "cell_type": "code",
      "metadata": {
        "id": "_KuDJJJGKXpe",
        "colab_type": "code",
        "colab": {}
      },
      "source": [
        "%load_ext autoreload\n",
        "%autoreload 2"
      ],
      "execution_count": 0,
      "outputs": []
    },
    {
      "cell_type": "markdown",
      "metadata": {
        "id": "IClLSTDeKXwB",
        "colab_type": "text"
      },
      "source": [
        "### Imports"
      ]
    },
    {
      "cell_type": "code",
      "metadata": {
        "id": "SDHvVUgeKX0v",
        "colab_type": "code",
        "outputId": "17027cad-a2fb-4548-cb86-b69287c4a464",
        "colab": {
          "base_uri": "https://localhost:8080/",
          "height": 68
        }
      },
      "source": [
        "import pandas as pd\n",
        "import numpy as np\n",
        "from tqdm import tqdm, trange\n",
        "import unicodedata\n",
        " \n",
        "  \n",
        "import tensorflow as tf\n",
        "  \n",
        "from keras.preprocessing.sequence import pad_sequences\n",
        "from keras.utils import to_categorical\n",
        "from keras.models import Model, Input\n",
        "from keras.layers import LSTM, Embedding, Dense\n",
        "from keras.layers import TimeDistributed, Dropout, Bidirectional\n",
        "\n",
        "import matplotlib.pyplot as plt\n",
        "\n",
        "# Installing extra-dependencies\n",
        "! pip -q install git+https://www.github.com/keras-team/keras-contrib.git sklearn-crfsuite"
      ],
      "execution_count": 7,
      "outputs": [
        {
          "output_type": "stream",
          "text": [
            "Using TensorFlow backend.\n"
          ],
          "name": "stderr"
        },
        {
          "output_type": "stream",
          "text": [
            "\u001b[?25l\r\u001b[K     |▍                               | 10kB 24.9MB/s eta 0:00:01\r\u001b[K     |▉                               | 20kB 1.7MB/s eta 0:00:01\r\u001b[K     |█▎                              | 30kB 2.6MB/s eta 0:00:01\r\u001b[K     |█▊                              | 40kB 3.4MB/s eta 0:00:01\r\u001b[K     |██▏                             | 51kB 4.1MB/s eta 0:00:01\r\u001b[K     |██▋                             | 61kB 4.9MB/s eta 0:00:01\r\u001b[K     |███                             | 71kB 5.6MB/s eta 0:00:01\r\u001b[K     |███▌                            | 81kB 3.3MB/s eta 0:00:01\r\u001b[K     |████                            | 92kB 3.7MB/s eta 0:00:01\r\u001b[K     |████▍                           | 102kB 4.1MB/s eta 0:00:01\r\u001b[K     |████▉                           | 112kB 4.1MB/s eta 0:00:01\r\u001b[K     |█████▏                          | 122kB 4.1MB/s eta 0:00:01\r\u001b[K     |█████▋                          | 133kB 4.1MB/s eta 0:00:01\r\u001b[K     |██████                          | 143kB 4.1MB/s eta 0:00:01\r\u001b[K     |██████▌                         | 153kB 4.1MB/s eta 0:00:01\r\u001b[K     |███████                         | 163kB 4.1MB/s eta 0:00:01\r\u001b[K     |███████▍                        | 174kB 4.1MB/s eta 0:00:01\r\u001b[K     |███████▉                        | 184kB 4.1MB/s eta 0:00:01\r\u001b[K     |████████▎                       | 194kB 4.1MB/s eta 0:00:01\r\u001b[K     |████████▊                       | 204kB 4.1MB/s eta 0:00:01\r\u001b[K     |█████████▏                      | 215kB 4.1MB/s eta 0:00:01\r\u001b[K     |█████████▋                      | 225kB 4.1MB/s eta 0:00:01\r\u001b[K     |██████████                      | 235kB 4.1MB/s eta 0:00:01\r\u001b[K     |██████████▍                     | 245kB 4.1MB/s eta 0:00:01\r\u001b[K     |██████████▉                     | 256kB 4.1MB/s eta 0:00:01\r\u001b[K     |███████████▎                    | 266kB 4.1MB/s eta 0:00:01\r\u001b[K     |███████████▊                    | 276kB 4.1MB/s eta 0:00:01\r\u001b[K     |████████████▏                   | 286kB 4.1MB/s eta 0:00:01\r\u001b[K     |████████████▋                   | 296kB 4.1MB/s eta 0:00:01\r\u001b[K     |█████████████                   | 307kB 4.1MB/s eta 0:00:01\r\u001b[K     |█████████████▌                  | 317kB 4.1MB/s eta 0:00:01\r\u001b[K     |██████████████                  | 327kB 4.1MB/s eta 0:00:01\r\u001b[K     |██████████████▍                 | 337kB 4.1MB/s eta 0:00:01\r\u001b[K     |██████████████▊                 | 348kB 4.1MB/s eta 0:00:01\r\u001b[K     |███████████████▏                | 358kB 4.1MB/s eta 0:00:01\r\u001b[K     |███████████████▋                | 368kB 4.1MB/s eta 0:00:01\r\u001b[K     |████████████████                | 378kB 4.1MB/s eta 0:00:01\r\u001b[K     |████████████████▌               | 389kB 4.1MB/s eta 0:00:01\r\u001b[K     |█████████████████               | 399kB 4.1MB/s eta 0:00:01\r\u001b[K     |█████████████████▍              | 409kB 4.1MB/s eta 0:00:01\r\u001b[K     |█████████████████▉              | 419kB 4.1MB/s eta 0:00:01\r\u001b[K     |██████████████████▎             | 430kB 4.1MB/s eta 0:00:01\r\u001b[K     |██████████████████▊             | 440kB 4.1MB/s eta 0:00:01\r\u001b[K     |███████████████████▏            | 450kB 4.1MB/s eta 0:00:01\r\u001b[K     |███████████████████▌            | 460kB 4.1MB/s eta 0:00:01\r\u001b[K     |████████████████████            | 471kB 4.1MB/s eta 0:00:01\r\u001b[K     |████████████████████▍           | 481kB 4.1MB/s eta 0:00:01\r\u001b[K     |████████████████████▉           | 491kB 4.1MB/s eta 0:00:01\r\u001b[K     |█████████████████████▎          | 501kB 4.1MB/s eta 0:00:01\r\u001b[K     |█████████████████████▊          | 512kB 4.1MB/s eta 0:00:01\r\u001b[K     |██████████████████████▏         | 522kB 4.1MB/s eta 0:00:01\r\u001b[K     |██████████████████████▋         | 532kB 4.1MB/s eta 0:00:01\r\u001b[K     |███████████████████████         | 542kB 4.1MB/s eta 0:00:01\r\u001b[K     |███████████████████████▌        | 552kB 4.1MB/s eta 0:00:01\r\u001b[K     |████████████████████████        | 563kB 4.1MB/s eta 0:00:01\r\u001b[K     |████████████████████████▎       | 573kB 4.1MB/s eta 0:00:01\r\u001b[K     |████████████████████████▊       | 583kB 4.1MB/s eta 0:00:01\r\u001b[K     |█████████████████████████▏      | 593kB 4.1MB/s eta 0:00:01\r\u001b[K     |█████████████████████████▋      | 604kB 4.1MB/s eta 0:00:01\r\u001b[K     |██████████████████████████      | 614kB 4.1MB/s eta 0:00:01\r\u001b[K     |██████████████████████████▌     | 624kB 4.1MB/s eta 0:00:01\r\u001b[K     |███████████████████████████     | 634kB 4.1MB/s eta 0:00:01\r\u001b[K     |███████████████████████████▍    | 645kB 4.1MB/s eta 0:00:01\r\u001b[K     |███████████████████████████▉    | 655kB 4.1MB/s eta 0:00:01\r\u001b[K     |████████████████████████████▎   | 665kB 4.1MB/s eta 0:00:01\r\u001b[K     |████████████████████████████▊   | 675kB 4.1MB/s eta 0:00:01\r\u001b[K     |█████████████████████████████▏  | 686kB 4.1MB/s eta 0:00:01\r\u001b[K     |█████████████████████████████▌  | 696kB 4.1MB/s eta 0:00:01\r\u001b[K     |██████████████████████████████  | 706kB 4.1MB/s eta 0:00:01\r\u001b[K     |██████████████████████████████▍ | 716kB 4.1MB/s eta 0:00:01\r\u001b[K     |██████████████████████████████▉ | 727kB 4.1MB/s eta 0:00:01\r\u001b[K     |███████████████████████████████▎| 737kB 4.1MB/s eta 0:00:01\r\u001b[K     |███████████████████████████████▊| 747kB 4.1MB/s eta 0:00:01\r\u001b[K     |████████████████████████████████| 757kB 4.1MB/s \n",
            "\u001b[?25h  Building wheel for keras-contrib (setup.py) ... \u001b[?25l\u001b[?25hdone\n"
          ],
          "name": "stdout"
        }
      ]
    },
    {
      "cell_type": "markdown",
      "metadata": {
        "id": "UWCYdCB0KX6l",
        "colab_type": "text"
      },
      "source": [
        "## Data\n",
        "### Download data\n",
        "Download from Google Cloud Storage"
      ]
    },
    {
      "cell_type": "code",
      "metadata": {
        "id": "yobIJEjuKYBF",
        "colab_type": "code",
        "outputId": "ebcd46d2-684c-4497-c0ff-d5458f42a26d",
        "colab": {
          "base_uri": "https://localhost:8080/",
          "height": 68
        }
      },
      "source": [
        "%%bash\n",
        "gsutil cp gs://sascha-ml-engine/data/ner/ner.csv ."
      ],
      "execution_count": 8,
      "outputs": [
        {
          "output_type": "stream",
          "text": [
            "Copying gs://sascha-ml-engine/data/ner/ner.csv...\n",
            "/ [0 files][    0.0 B/149.8 MiB]                                                \r-\r- [0 files][ 83.0 MiB/149.8 MiB]                                                \r\\\r\\ [1 files][149.8 MiB/149.8 MiB]                                                \r\n",
            "Operation completed over 1 objects/149.8 MiB.                                    \n"
          ],
          "name": "stderr"
        }
      ]
    },
    {
      "cell_type": "markdown",
      "metadata": {
        "id": "qa8yq0sGKYGA",
        "colab_type": "text"
      },
      "source": [
        "## Read data"
      ]
    },
    {
      "cell_type": "code",
      "metadata": {
        "id": "C0tGyArdKYK6",
        "colab_type": "code",
        "outputId": "53e2d889-f064-4c04-b7c8-839b15e3631e",
        "colab": {
          "base_uri": "https://localhost:8080/",
          "height": 275
        }
      },
      "source": [
        "data = pd.read_csv(\"ner.csv\", encoding=\"latin1\", error_bad_lines=False)\n",
        "data = data.fillna(method=\"ffill\")\n",
        "data.head()"
      ],
      "execution_count": 9,
      "outputs": [
        {
          "output_type": "stream",
          "text": [
            "b'Skipping line 281837: expected 25 fields, saw 34\\n'\n"
          ],
          "name": "stderr"
        },
        {
          "output_type": "execute_result",
          "data": {
            "text/html": [
              "<div>\n",
              "<style scoped>\n",
              "    .dataframe tbody tr th:only-of-type {\n",
              "        vertical-align: middle;\n",
              "    }\n",
              "\n",
              "    .dataframe tbody tr th {\n",
              "        vertical-align: top;\n",
              "    }\n",
              "\n",
              "    .dataframe thead th {\n",
              "        text-align: right;\n",
              "    }\n",
              "</style>\n",
              "<table border=\"1\" class=\"dataframe\">\n",
              "  <thead>\n",
              "    <tr style=\"text-align: right;\">\n",
              "      <th></th>\n",
              "      <th>Unnamed: 0</th>\n",
              "      <th>lemma</th>\n",
              "      <th>next-lemma</th>\n",
              "      <th>next-next-lemma</th>\n",
              "      <th>next-next-pos</th>\n",
              "      <th>next-next-shape</th>\n",
              "      <th>next-next-word</th>\n",
              "      <th>next-pos</th>\n",
              "      <th>next-shape</th>\n",
              "      <th>next-word</th>\n",
              "      <th>pos</th>\n",
              "      <th>prev-iob</th>\n",
              "      <th>prev-lemma</th>\n",
              "      <th>prev-pos</th>\n",
              "      <th>prev-prev-iob</th>\n",
              "      <th>prev-prev-lemma</th>\n",
              "      <th>prev-prev-pos</th>\n",
              "      <th>prev-prev-shape</th>\n",
              "      <th>prev-prev-word</th>\n",
              "      <th>prev-shape</th>\n",
              "      <th>prev-word</th>\n",
              "      <th>sentence_idx</th>\n",
              "      <th>shape</th>\n",
              "      <th>word</th>\n",
              "      <th>tag</th>\n",
              "    </tr>\n",
              "  </thead>\n",
              "  <tbody>\n",
              "    <tr>\n",
              "      <th>0</th>\n",
              "      <td>0</td>\n",
              "      <td>thousand</td>\n",
              "      <td>of</td>\n",
              "      <td>demonstr</td>\n",
              "      <td>NNS</td>\n",
              "      <td>lowercase</td>\n",
              "      <td>demonstrators</td>\n",
              "      <td>IN</td>\n",
              "      <td>lowercase</td>\n",
              "      <td>of</td>\n",
              "      <td>NNS</td>\n",
              "      <td>__START1__</td>\n",
              "      <td>__start1__</td>\n",
              "      <td>__START1__</td>\n",
              "      <td>__START2__</td>\n",
              "      <td>__start2__</td>\n",
              "      <td>__START2__</td>\n",
              "      <td>wildcard</td>\n",
              "      <td>__START2__</td>\n",
              "      <td>wildcard</td>\n",
              "      <td>__START1__</td>\n",
              "      <td>1.0</td>\n",
              "      <td>capitalized</td>\n",
              "      <td>Thousands</td>\n",
              "      <td>O</td>\n",
              "    </tr>\n",
              "    <tr>\n",
              "      <th>1</th>\n",
              "      <td>1</td>\n",
              "      <td>of</td>\n",
              "      <td>demonstr</td>\n",
              "      <td>have</td>\n",
              "      <td>VBP</td>\n",
              "      <td>lowercase</td>\n",
              "      <td>have</td>\n",
              "      <td>NNS</td>\n",
              "      <td>lowercase</td>\n",
              "      <td>demonstrators</td>\n",
              "      <td>IN</td>\n",
              "      <td>O</td>\n",
              "      <td>thousand</td>\n",
              "      <td>NNS</td>\n",
              "      <td>__START1__</td>\n",
              "      <td>__start1__</td>\n",
              "      <td>__START1__</td>\n",
              "      <td>wildcard</td>\n",
              "      <td>__START1__</td>\n",
              "      <td>capitalized</td>\n",
              "      <td>Thousands</td>\n",
              "      <td>1.0</td>\n",
              "      <td>lowercase</td>\n",
              "      <td>of</td>\n",
              "      <td>O</td>\n",
              "    </tr>\n",
              "    <tr>\n",
              "      <th>2</th>\n",
              "      <td>2</td>\n",
              "      <td>demonstr</td>\n",
              "      <td>have</td>\n",
              "      <td>march</td>\n",
              "      <td>VBN</td>\n",
              "      <td>lowercase</td>\n",
              "      <td>marched</td>\n",
              "      <td>VBP</td>\n",
              "      <td>lowercase</td>\n",
              "      <td>have</td>\n",
              "      <td>NNS</td>\n",
              "      <td>O</td>\n",
              "      <td>of</td>\n",
              "      <td>IN</td>\n",
              "      <td>O</td>\n",
              "      <td>thousand</td>\n",
              "      <td>NNS</td>\n",
              "      <td>capitalized</td>\n",
              "      <td>Thousands</td>\n",
              "      <td>lowercase</td>\n",
              "      <td>of</td>\n",
              "      <td>1.0</td>\n",
              "      <td>lowercase</td>\n",
              "      <td>demonstrators</td>\n",
              "      <td>O</td>\n",
              "    </tr>\n",
              "    <tr>\n",
              "      <th>3</th>\n",
              "      <td>3</td>\n",
              "      <td>have</td>\n",
              "      <td>march</td>\n",
              "      <td>through</td>\n",
              "      <td>IN</td>\n",
              "      <td>lowercase</td>\n",
              "      <td>through</td>\n",
              "      <td>VBN</td>\n",
              "      <td>lowercase</td>\n",
              "      <td>marched</td>\n",
              "      <td>VBP</td>\n",
              "      <td>O</td>\n",
              "      <td>demonstr</td>\n",
              "      <td>NNS</td>\n",
              "      <td>O</td>\n",
              "      <td>of</td>\n",
              "      <td>IN</td>\n",
              "      <td>lowercase</td>\n",
              "      <td>of</td>\n",
              "      <td>lowercase</td>\n",
              "      <td>demonstrators</td>\n",
              "      <td>1.0</td>\n",
              "      <td>lowercase</td>\n",
              "      <td>have</td>\n",
              "      <td>O</td>\n",
              "    </tr>\n",
              "    <tr>\n",
              "      <th>4</th>\n",
              "      <td>4</td>\n",
              "      <td>march</td>\n",
              "      <td>through</td>\n",
              "      <td>london</td>\n",
              "      <td>NNP</td>\n",
              "      <td>capitalized</td>\n",
              "      <td>London</td>\n",
              "      <td>IN</td>\n",
              "      <td>lowercase</td>\n",
              "      <td>through</td>\n",
              "      <td>VBN</td>\n",
              "      <td>O</td>\n",
              "      <td>have</td>\n",
              "      <td>VBP</td>\n",
              "      <td>O</td>\n",
              "      <td>demonstr</td>\n",
              "      <td>NNS</td>\n",
              "      <td>lowercase</td>\n",
              "      <td>demonstrators</td>\n",
              "      <td>lowercase</td>\n",
              "      <td>have</td>\n",
              "      <td>1.0</td>\n",
              "      <td>lowercase</td>\n",
              "      <td>marched</td>\n",
              "      <td>O</td>\n",
              "    </tr>\n",
              "  </tbody>\n",
              "</table>\n",
              "</div>"
            ],
            "text/plain": [
              "   Unnamed: 0     lemma next-lemma  ...        shape           word tag\n",
              "0           0  thousand         of  ...  capitalized      Thousands   O\n",
              "1           1        of   demonstr  ...    lowercase             of   O\n",
              "2           2  demonstr       have  ...    lowercase  demonstrators   O\n",
              "3           3      have      march  ...    lowercase           have   O\n",
              "4           4     march    through  ...    lowercase        marched   O\n",
              "\n",
              "[5 rows x 25 columns]"
            ]
          },
          "metadata": {
            "tags": []
          },
          "execution_count": 9
        }
      ]
    },
    {
      "cell_type": "markdown",
      "metadata": {
        "id": "uG_YyOZivZhE",
        "colab_type": "text"
      },
      "source": [
        "## Cleanup columns"
      ]
    },
    {
      "cell_type": "code",
      "metadata": {
        "id": "sE9iZDocLCqF",
        "colab_type": "code",
        "outputId": "fd42810f-f3c7-4c2c-e84e-127345d8274c",
        "colab": {
          "base_uri": "https://localhost:8080/",
          "height": 359
        }
      },
      "source": [
        "data=data.drop(['Unnamed: 0', 'lemma', 'next-lemma', 'next-next-lemma', 'next-next-pos',\n",
        "       'next-next-shape', 'next-next-word', 'next-pos', 'next-shape',\n",
        "       'next-word', 'prev-iob', 'prev-lemma', 'prev-pos',\n",
        "       'prev-prev-iob', 'prev-prev-lemma', 'prev-prev-pos', 'prev-prev-shape',\n",
        "       'prev-prev-word', 'prev-shape', 'prev-word',\"pos\", \"shape\"],axis=1)\n",
        "\n",
        "data.head(10)"
      ],
      "execution_count": 10,
      "outputs": [
        {
          "output_type": "execute_result",
          "data": {
            "text/html": [
              "<div>\n",
              "<style scoped>\n",
              "    .dataframe tbody tr th:only-of-type {\n",
              "        vertical-align: middle;\n",
              "    }\n",
              "\n",
              "    .dataframe tbody tr th {\n",
              "        vertical-align: top;\n",
              "    }\n",
              "\n",
              "    .dataframe thead th {\n",
              "        text-align: right;\n",
              "    }\n",
              "</style>\n",
              "<table border=\"1\" class=\"dataframe\">\n",
              "  <thead>\n",
              "    <tr style=\"text-align: right;\">\n",
              "      <th></th>\n",
              "      <th>sentence_idx</th>\n",
              "      <th>word</th>\n",
              "      <th>tag</th>\n",
              "    </tr>\n",
              "  </thead>\n",
              "  <tbody>\n",
              "    <tr>\n",
              "      <th>0</th>\n",
              "      <td>1.0</td>\n",
              "      <td>Thousands</td>\n",
              "      <td>O</td>\n",
              "    </tr>\n",
              "    <tr>\n",
              "      <th>1</th>\n",
              "      <td>1.0</td>\n",
              "      <td>of</td>\n",
              "      <td>O</td>\n",
              "    </tr>\n",
              "    <tr>\n",
              "      <th>2</th>\n",
              "      <td>1.0</td>\n",
              "      <td>demonstrators</td>\n",
              "      <td>O</td>\n",
              "    </tr>\n",
              "    <tr>\n",
              "      <th>3</th>\n",
              "      <td>1.0</td>\n",
              "      <td>have</td>\n",
              "      <td>O</td>\n",
              "    </tr>\n",
              "    <tr>\n",
              "      <th>4</th>\n",
              "      <td>1.0</td>\n",
              "      <td>marched</td>\n",
              "      <td>O</td>\n",
              "    </tr>\n",
              "    <tr>\n",
              "      <th>5</th>\n",
              "      <td>1.0</td>\n",
              "      <td>through</td>\n",
              "      <td>O</td>\n",
              "    </tr>\n",
              "    <tr>\n",
              "      <th>6</th>\n",
              "      <td>1.0</td>\n",
              "      <td>London</td>\n",
              "      <td>B-geo</td>\n",
              "    </tr>\n",
              "    <tr>\n",
              "      <th>7</th>\n",
              "      <td>1.0</td>\n",
              "      <td>to</td>\n",
              "      <td>O</td>\n",
              "    </tr>\n",
              "    <tr>\n",
              "      <th>8</th>\n",
              "      <td>1.0</td>\n",
              "      <td>protest</td>\n",
              "      <td>O</td>\n",
              "    </tr>\n",
              "    <tr>\n",
              "      <th>9</th>\n",
              "      <td>1.0</td>\n",
              "      <td>the</td>\n",
              "      <td>O</td>\n",
              "    </tr>\n",
              "  </tbody>\n",
              "</table>\n",
              "</div>"
            ],
            "text/plain": [
              "   sentence_idx           word    tag\n",
              "0           1.0      Thousands      O\n",
              "1           1.0             of      O\n",
              "2           1.0  demonstrators      O\n",
              "3           1.0           have      O\n",
              "4           1.0        marched      O\n",
              "5           1.0        through      O\n",
              "6           1.0         London  B-geo\n",
              "7           1.0             to      O\n",
              "8           1.0        protest      O\n",
              "9           1.0            the      O"
            ]
          },
          "metadata": {
            "tags": []
          },
          "execution_count": 10
        }
      ]
    },
    {
      "cell_type": "markdown",
      "metadata": {
        "id": "o21sfXd3KYbS",
        "colab_type": "text"
      },
      "source": [
        "## Build sentences\n",
        "\n",
        "The training data consists of single words (one per row). We need them in a better format a complete sentence."
      ]
    },
    {
      "cell_type": "code",
      "metadata": {
        "id": "MN79mkHd6igu",
        "colab_type": "code",
        "colab": {
          "base_uri": "https://localhost:8080/",
          "height": 54
        },
        "outputId": "b5213ec9-7b43-4c87-80bc-29918c30c25e"
      },
      "source": [
        "agg_func = lambda s: [(w, t) for w,t in zip(s[\"word\"].values.tolist(),\n",
        "                                                    s[\"tag\"].values.tolist())]\n",
        "grouped = data.groupby(\"sentence_idx\").apply(agg_func)\n",
        "sentences = [s for s in grouped]\n",
        "sentences_list = [\" \".join([s[0] for s in sent]) for sent in sentences]\n",
        "sentences_list[0]"
      ],
      "execution_count": 13,
      "outputs": [
        {
          "output_type": "execute_result",
          "data": {
            "text/plain": [
              "'Thousands of demonstrators have marched through London to protest the war in Iraq and demand the withdrawal of British troops from that country . Thousands of demonstrators have marched through London to protest the war in Iraq and demand the withdrawal of British troops from that country .'"
            ]
          },
          "metadata": {
            "tags": []
          },
          "execution_count": 13
        }
      ]
    },
    {
      "cell_type": "markdown",
      "metadata": {
        "id": "eY65jnKXvzs9",
        "colab_type": "text"
      },
      "source": [
        "## Analysis"
      ]
    },
    {
      "cell_type": "markdown",
      "metadata": {
        "id": "YpWiDyxWAdkE",
        "colab_type": "text"
      },
      "source": [
        "### Maximum sentence length"
      ]
    },
    {
      "cell_type": "code",
      "metadata": {
        "id": "U0_BEr9jL2f-",
        "colab_type": "code",
        "outputId": "d2127178-811a-4293-f662-2f3debde9ba9",
        "colab": {
          "base_uri": "https://localhost:8080/",
          "height": 34
        }
      },
      "source": [
        "maxlen = max([len(s) for s in sentences])\n",
        "print ('Maximum sequence length:', maxlen)"
      ],
      "execution_count": 14,
      "outputs": [
        {
          "output_type": "stream",
          "text": [
            "Maximum sequence length: 140\n"
          ],
          "name": "stdout"
        }
      ]
    },
    {
      "cell_type": "markdown",
      "metadata": {
        "id": "zPELlcBNAjwm",
        "colab_type": "text"
      },
      "source": [
        "### Length distribution"
      ]
    },
    {
      "cell_type": "code",
      "metadata": {
        "id": "yMTlhh8HL4Rv",
        "colab_type": "code",
        "outputId": "faa851a0-aa19-4ff9-957b-4afd7c96f805",
        "colab": {
          "base_uri": "https://localhost:8080/",
          "height": 295
        }
      },
      "source": [
        "#plt.style.use(\"ggplot\")\n",
        "plt.hist([len(s) for s in sentences], bins=50)\n",
        "plt.title('Token per sentence')\n",
        "plt.xlabel('Len (number of token)')\n",
        "plt.ylabel('# samples')\n",
        "plt.show()"
      ],
      "execution_count": 15,
      "outputs": [
        {
          "output_type": "display_data",
          "data": {
            "image/png": "[encoded data removed]",
            "text/plain": [
              "<Figure size 432x288 with 1 Axes>"
            ]
          },
          "metadata": {
            "tags": []
          }
        }
      ]
    },
    {
      "cell_type": "markdown",
      "metadata": {
        "id": "61FZiwHDAx3j",
        "colab_type": "text"
      },
      "source": [
        "### Number of words"
      ]
    },
    {
      "cell_type": "code",
      "metadata": {
        "id": "e2Rc48G8L6wk",
        "colab_type": "code",
        "outputId": "4fc91ec5-b65c-4c32-a467-f658f95eb1b9",
        "colab": {
          "base_uri": "https://localhost:8080/",
          "height": 34
        }
      },
      "source": [
        "words = list(set(data[\"word\"].values))\n",
        "#words.append(\"ENDPAD\")\n",
        "n_words = len(words)\n",
        "print ('Number of words:', n_words)"
      ],
      "execution_count": 16,
      "outputs": [
        {
          "output_type": "stream",
          "text": [
            "Number of words: 30168\n"
          ],
          "name": "stdout"
        }
      ]
    },
    {
      "cell_type": "markdown",
      "metadata": {
        "id": "ACld5TQEA0W4",
        "colab_type": "text"
      },
      "source": [
        "### Number and type of tags"
      ]
    },
    {
      "cell_type": "code",
      "metadata": {
        "id": "OixeQyUZMOaR",
        "colab_type": "code",
        "outputId": "43e5b5a6-2a04-4514-c4ce-b30a406a034f",
        "colab": {
          "base_uri": "https://localhost:8080/",
          "height": 51
        }
      },
      "source": [
        "tags = list(set(data[\"tag\"].values))\n",
        "n_tags = len(tags)\n",
        "print ('Number of tags:', n_tags)\n",
        "print ('Type of tags:', tags)\n"
      ],
      "execution_count": 27,
      "outputs": [
        {
          "output_type": "stream",
          "text": [
            "Number of tags: 17\n",
            "Type of tags: ['B-nat', 'B-per', 'O', 'B-gpe', 'I-org', 'B-org', 'B-tim', 'B-art', 'I-eve', 'I-nat', 'I-per', 'I-tim', 'B-eve', 'B-geo', 'I-geo', 'I-art', 'I-gpe']\n"
          ],
          "name": "stdout"
        }
      ]
    },
    {
      "cell_type": "code",
      "metadata": {
        "id": "NYbkOyptF56O",
        "colab_type": "code",
        "colab": {}
      },
      "source": [
        ""
      ],
      "execution_count": 0,
      "outputs": []
    },
    {
      "cell_type": "markdown",
      "metadata": {
        "id": "Mj0tQvWCv37S",
        "colab_type": "text"
      },
      "source": [
        "## Preprocessing"
      ]
    },
    {
      "cell_type": "markdown",
      "metadata": {
        "id": "EDvtz_XXyyg8",
        "colab_type": "text"
      },
      "source": [
        "### Text preprocessor used in training and prediction\n",
        "\n",
        "\n",
        "* all texts has to be the same length to get feeded into our Bi-LSTM, this is done via sequence.pad_sequences(). Longer text is truncated and shorter text is padded."
      ]
    },
    {
      "cell_type": "code",
      "metadata": {
        "id": "3fVQ22mlWbKQ",
        "colab_type": "code",
        "outputId": "e2514bb4-8995-4987-b452-e2a7d259230c",
        "colab": {
          "base_uri": "https://localhost:8080/",
          "height": 34
        }
      },
      "source": [
        "%%writefile preprocess.py\n",
        "\n",
        "from keras.preprocessing.sequence import pad_sequences\n",
        "from tensorflow.python.keras.preprocessing import sequence\n",
        "from tensorflow.keras.preprocessing import text\n",
        "\n",
        "class TextPreprocessor(object):\n",
        "  \n",
        "  def __init__(self, max_sequence_length):\n",
        "    self._max_sequence_length = max_sequence_length\n",
        "    self._labels = None\n",
        "    self.number_words = None\n",
        "    self._tokenizer = None\n",
        "    \n",
        "  def fit(self, instances):\n",
        "    tokenizer = text.Tokenizer(lower=False, filters=[], oov_token=None)\n",
        "    tokenizer.fit_on_texts(instances)\n",
        "    self._tokenizer = tokenizer\n",
        "    self.number_words = len(tokenizer.word_index)\n",
        "    print(self.number_words)\n",
        "    \n",
        "  def transform(self,instances):\n",
        "    sequences = self._tokenizer.texts_to_sequences(instances)\n",
        "    padded_sequences = pad_sequences(maxlen=140, sequences=sequences, padding=\"post\",value=self.number_words - 1)\n",
        "    return padded_sequences\n",
        "    "
      ],
      "execution_count": 28,
      "outputs": [
        {
          "output_type": "stream",
          "text": [
            "Overwriting preprocess.py\n"
          ],
          "name": "stdout"
        }
      ]
    },
    {
      "cell_type": "code",
      "metadata": {
        "id": "o0pmyJnGMXht",
        "colab_type": "code",
        "outputId": "48077cd1-a9e4-449d-e218-25c862cb1b77",
        "colab": {
          "base_uri": "https://localhost:8080/",
          "height": 34
        }
      },
      "source": [
        "from preprocess import TextPreprocessor\n",
        "\n",
        "processor = TextPreprocessor(140)\n",
        "processor.fit(sentences_list)\n",
        "processor.labels = list(set(data[\"tag\"].values))\n",
        "\n",
        "X = processor.transform(sentences_list)"
      ],
      "execution_count": 29,
      "outputs": [
        {
          "output_type": "stream",
          "text": [
            "30168\n"
          ],
          "name": "stdout"
        }
      ]
    },
    {
      "cell_type": "markdown",
      "metadata": {
        "id": "wmaKuS3_wFyy",
        "colab_type": "text"
      },
      "source": [
        "### Save preprocessing state\n"
      ]
    },
    {
      "cell_type": "code",
      "metadata": {
        "id": "IcK14rIraYUz",
        "colab_type": "code",
        "colab": {}
      },
      "source": [
        "import pickle\n",
        "\n",
        "with open('./processor_state.pkl', 'wb') as f:\n",
        "  pickle.dump(processor, f)"
      ],
      "execution_count": 0,
      "outputs": []
    },
    {
      "cell_type": "markdown",
      "metadata": {
        "id": "7rJaxMzmBZJM",
        "colab_type": "text"
      },
      "source": [
        "### Tag preprocessing"
      ]
    },
    {
      "cell_type": "code",
      "metadata": {
        "id": "CWqGaAsOMZMk",
        "colab_type": "code",
        "colab": {}
      },
      "source": [
        "tag2idx = {t: i for i, t in enumerate(tags)}\n",
        "\n",
        "y = [[tag2idx[w[1]] for w in s] for s in sentences]\n",
        "y = pad_sequences(maxlen=140, sequences=y, padding=\"post\", value=tag2idx[\"O\"])\n",
        "\n",
        "from keras.utils import to_categorical\n",
        "y = [to_categorical(i, num_classes=n_tags) for i in y]"
      ],
      "execution_count": 0,
      "outputs": []
    },
    {
      "cell_type": "markdown",
      "metadata": {
        "id": "jSv4QzUaNq39",
        "colab_type": "text"
      },
      "source": [
        "y"
      ]
    },
    {
      "cell_type": "code",
      "metadata": {
        "id": "kB5O0hXdNr-F",
        "colab_type": "code",
        "outputId": "f3b24e86-80f6-4997-f6bb-e26faf6fe308",
        "colab": {
          "base_uri": "https://localhost:8080/",
          "height": 136
        }
      },
      "source": [
        "y[0]"
      ],
      "execution_count": 32,
      "outputs": [
        {
          "output_type": "execute_result",
          "data": {
            "text/plain": [
              "array([[0., 0., 1., ..., 0., 0., 0.],\n",
              "       [0., 0., 1., ..., 0., 0., 0.],\n",
              "       [0., 0., 1., ..., 0., 0., 0.],\n",
              "       ...,\n",
              "       [0., 0., 1., ..., 0., 0., 0.],\n",
              "       [0., 0., 1., ..., 0., 0., 0.],\n",
              "       [0., 0., 1., ..., 0., 0., 0.]], dtype=float32)"
            ]
          },
          "metadata": {
            "tags": []
          },
          "execution_count": 32
        }
      ]
    },
    {
      "cell_type": "markdown",
      "metadata": {
        "id": "DalI-yxawJgC",
        "colab_type": "text"
      },
      "source": [
        "### Split training data\n",
        "80/20 training / test"
      ]
    },
    {
      "cell_type": "code",
      "metadata": {
        "id": "VujIacLLMb91",
        "colab_type": "code",
        "outputId": "7eb88ef9-6b92-4a6f-b5aa-6b75ac96ae52",
        "colab": {
          "base_uri": "https://localhost:8080/",
          "height": 136
        }
      },
      "source": [
        "from sklearn.model_selection import train_test_split\n",
        "X_train, X_test, y_train, y_test = train_test_split(X, y, test_size=0.2)\n",
        "\n",
        "X_train"
      ],
      "execution_count": 33,
      "outputs": [
        {
          "output_type": "execute_result",
          "data": {
            "text/plain": [
              "array([[15948,    31, 13227, ..., 30167, 30167, 30167],\n",
              "       [    9,  7021,   495, ..., 30167, 30167, 30167],\n",
              "       [  205,   426,    42, ..., 30167, 30167, 30167],\n",
              "       ...,\n",
              "       [   33,  3472,    20, ..., 30167, 30167, 30167],\n",
              "       [    9, 20937,   306, ..., 30167, 30167, 30167],\n",
              "       [ 3917,     4,  5056, ..., 30167, 30167, 30167]], dtype=int32)"
            ]
          },
          "metadata": {
            "tags": []
          },
          "execution_count": 33
        }
      ]
    },
    {
      "cell_type": "markdown",
      "metadata": {
        "id": "zBWU94BCVIAc",
        "colab_type": "text"
      },
      "source": [
        "# Demo"
      ]
    },
    {
      "cell_type": "markdown",
      "metadata": {
        "id": "mwPslIV_wRMB",
        "colab_type": "text"
      },
      "source": [
        "## Model"
      ]
    },
    {
      "cell_type": "markdown",
      "metadata": {
        "id": "gg301KCUBpKe",
        "colab_type": "text"
      },
      "source": [
        "### Create model"
      ]
    },
    {
      "cell_type": "code",
      "metadata": {
        "id": "uFPZtFeGMish",
        "colab_type": "code",
        "outputId": "247bc116-0074-4263-f85f-0c73728f3027",
        "colab": {
          "base_uri": "https://localhost:8080/",
          "height": 306
        }
      },
      "source": [
        "from keras.models import Model, Input\n",
        "from keras.layers import LSTM, Embedding, Dense, TimeDistributed, Dropout, Bidirectional\n",
        "\n",
        "input = Input(shape=(140,))\n",
        "model = Embedding(input_dim=n_words, output_dim=140, input_length=140)(input)\n",
        "model = Dropout(0.1)(model)\n",
        "model = Bidirectional(LSTM(units=100, return_sequences=True, recurrent_dropout=0.1))(model)\n",
        "out = TimeDistributed(Dense(n_tags, activation=\"softmax\"))(model)  # softmax output layer\n",
        "\n",
        "model = Model(input, out)\n",
        "\n",
        "model.compile(optimizer=\"adam\", loss=\"categorical_crossentropy\", metrics=[\"accuracy\"])\n",
        "\n",
        "model.summary()"
      ],
      "execution_count": 39,
      "outputs": [
        {
          "output_type": "stream",
          "text": [
            "_________________________________________________________________\n",
            "Layer (type)                 Output Shape              Param #   \n",
            "=================================================================\n",
            "input_2 (InputLayer)         (None, 140)               0         \n",
            "_________________________________________________________________\n",
            "embedding_2 (Embedding)      (None, 140, 140)          4223520   \n",
            "_________________________________________________________________\n",
            "dropout_2 (Dropout)          (None, 140, 140)          0         \n",
            "_________________________________________________________________\n",
            "bidirectional_2 (Bidirection (None, 140, 200)          192800    \n",
            "_________________________________________________________________\n",
            "time_distributed_2 (TimeDist (None, 140, 17)           3417      \n",
            "=================================================================\n",
            "Total params: 4,419,737\n",
            "Trainable params: 4,419,737\n",
            "Non-trainable params: 0\n",
            "_________________________________________________________________\n"
          ],
          "name": "stdout"
        }
      ]
    },
    {
      "cell_type": "markdown",
      "metadata": {
        "id": "2yXbnUfJwhAx",
        "colab_type": "text"
      },
      "source": [
        "### Train model"
      ]
    },
    {
      "cell_type": "code",
      "metadata": {
        "id": "djMgEg2xMlec",
        "colab_type": "code",
        "outputId": "90d2bedd-3d91-4f66-de59-723d007ec574",
        "colab": {
          "base_uri": "https://localhost:8080/",
          "height": 139
        }
      },
      "source": [
        "history = model.fit(X_train, np.array(y_train), batch_size=32, epochs=1, validation_split=0.1, verbose=1)"
      ],
      "execution_count": 40,
      "outputs": [
        {
          "output_type": "stream",
          "text": [
            "W0616 10:58:15.686563 139880807655296 deprecation.py:323] From /usr/local/lib/python3.6/dist-packages/tensorflow/python/ops/math_grad.py:1250: add_dispatch_support.<locals>.wrapper (from tensorflow.python.ops.array_ops) is deprecated and will be removed in a future version.\n",
            "Instructions for updating:\n",
            "Use tf.where in 2.0, which has the same broadcast rule as np.where\n"
          ],
          "name": "stderr"
        },
        {
          "output_type": "stream",
          "text": [
            "Train on 25326 samples, validate on 2815 samples\n",
            "Epoch 1/1\n",
            "25326/25326 [==============================] - 444s 18ms/step - loss: 0.1217 - acc: 0.9762 - val_loss: 0.0402 - val_acc: 0.9889\n"
          ],
          "name": "stdout"
        }
      ]
    },
    {
      "cell_type": "markdown",
      "metadata": {
        "id": "USFUthNGwixS",
        "colab_type": "text"
      },
      "source": [
        "### Save model"
      ]
    },
    {
      "cell_type": "code",
      "metadata": {
        "id": "eLWtDQ0yM6-B",
        "colab_type": "code",
        "colab": {}
      },
      "source": [
        "model.save('keras_saved_model.h5')"
      ],
      "execution_count": 0,
      "outputs": []
    },
    {
      "cell_type": "markdown",
      "metadata": {
        "id": "M_VWO3lzeQ5i",
        "colab_type": "text"
      },
      "source": [
        "### Evaluate training"
      ]
    },
    {
      "cell_type": "code",
      "metadata": {
        "id": "RIWstg9Kk33W",
        "colab_type": "code",
        "outputId": "29688ed5-2890-415e-9717-a8664e2e6234",
        "colab": {
          "base_uri": "https://localhost:8080/",
          "height": 573
        }
      },
      "source": [
        "# Visualize History for Loss.\n",
        "plt.title('Keras model loss')\n",
        "plt.plot(history.history['loss'])\n",
        "plt.plot(history.history['val_loss'])\n",
        "plt.ylabel('loss')\n",
        "plt.xlabel('epoch')\n",
        "plt.legend(['training', 'validation'], loc='upper right')\n",
        "plt.show()\n",
        "\n",
        "# Visualize History for Accuracy.\n",
        "plt.title('Keras model accuracy')\n",
        "plt.ylabel('accuracy')\n",
        "plt.xlabel('epoch')\n",
        "plt.plot(history.history['acc'])\n",
        "plt.plot(history.history['val_acc'])\n",
        "plt.legend(['training', 'validation'], loc='lower right')\n",
        "plt.show()"
      ],
      "execution_count": 0,
      "outputs": [
        {
          "output_type": "display_data",
          "data": {
            "image/png": "[encoded data removed]",
            "text/plain": [
              "<Figure size 432x288 with 1 Axes>"
            ]
          },
          "metadata": {
            "tags": []
          }
        },
        {
          "output_type": "display_data",
          "data": {
            "image/png": "[encoded data removed]",
            "text/plain": [
              "<Figure size 432x288 with 1 Axes>"
            ]
          },
          "metadata": {
            "tags": []
          }
        }
      ]
    },
    {
      "cell_type": "markdown",
      "metadata": {
        "id": "ihyzXFnOiuHk",
        "colab_type": "text"
      },
      "source": [
        "### Evaluate our model on test data"
      ]
    },
    {
      "cell_type": "code",
      "metadata": {
        "id": "tn8CZA85eFLO",
        "colab_type": "code",
        "outputId": "7d19f493-349e-4e51-89dc-f2d8f698b803",
        "colab": {
          "base_uri": "https://localhost:8080/",
          "height": 85
        }
      },
      "source": [
        "# Evaluate the model on the test data using `evaluate`\n",
        "print('\\n# Evaluate on test data')\n",
        "results = model.evaluate(X_test, np.array(y_test), batch_size=32)\n",
        "print('test loss, test acc:', results)"
      ],
      "execution_count": 41,
      "outputs": [
        {
          "output_type": "stream",
          "text": [
            "\n",
            "# Evaluate on test data\n",
            "7036/7036 [==============================] - 45s 6ms/step\n",
            "test loss, test acc: [0.04017833407254569, 0.9889750677187922]\n"
          ],
          "name": "stdout"
        }
      ]
    },
    {
      "cell_type": "markdown",
      "metadata": {
        "id": "M8CWgPfyixcl",
        "colab_type": "text"
      },
      "source": [
        "### Evaluate based on a classification report"
      ]
    },
    {
      "cell_type": "code",
      "metadata": {
        "id": "hcBokDs7xaPl",
        "colab_type": "code",
        "outputId": "7af35ed8-611d-4ce8-dd58-a5dfc021255c",
        "colab": {
          "base_uri": "https://localhost:8080/",
          "height": 34
        }
      },
      "source": [
        "#dict(tag2idx)\n",
        "inv_tags = {v: k for k, v in tag2idx.items()}\n",
        "inv_tags[1]\n"
      ],
      "execution_count": 42,
      "outputs": [
        {
          "output_type": "execute_result",
          "data": {
            "text/plain": [
              "'B-per'"
            ]
          },
          "metadata": {
            "tags": []
          },
          "execution_count": 42
        }
      ]
    },
    {
      "cell_type": "code",
      "metadata": {
        "id": "nBSmsalJebJW",
        "colab_type": "code",
        "outputId": "a8eb0381-b82c-4dac-e829-fa44b1a4c859",
        "colab": {
          "base_uri": "https://localhost:8080/",
          "height": 479
        }
      },
      "source": [
        "\n",
        "from sklearn_crfsuite.metrics import flat_classification_report\n",
        "\n",
        "# Eval\n",
        "pred_cat = model.predict(np.array(X_test))\n",
        "pred = np.argmax(pred_cat, axis=-1)\n",
        "y_te_true = np.argmax(y_test, -1)\n",
        "\n",
        "\n",
        "# Convert the index to tag\n",
        "pred_tag = [[inv_tags[i] for i in row] for row in pred]\n",
        "y_te_true_tag = [[inv_tags[i] for i in row] for row in y_te_true] \n",
        "\n",
        "\n",
        "report = flat_classification_report(y_pred=pred_tag, y_true=y_te_true_tag)\n",
        "print(report)"
      ],
      "execution_count": 43,
      "outputs": [
        {
          "output_type": "stream",
          "text": [
            "/usr/local/lib/python3.6/dist-packages/sklearn/metrics/classification.py:1437: UndefinedMetricWarning: Precision and F-score are ill-defined and being set to 0.0 in labels with no predicted samples.\n",
            "  'precision', 'predicted', average, warn_for)\n"
          ],
          "name": "stderr"
        },
        {
          "output_type": "stream",
          "text": [
            "              precision    recall  f1-score   support\n",
            "\n",
            "       B-art       0.00      0.00      0.00       101\n",
            "       B-eve       0.00      0.00      0.00        67\n",
            "       B-geo       0.70      0.89      0.78      7459\n",
            "       B-gpe       0.94      0.85      0.90      3305\n",
            "       B-nat       0.00      0.00      0.00        59\n",
            "       B-org       0.76      0.41      0.53      4199\n",
            "       B-per       0.84      0.65      0.73      3421\n",
            "       B-tim       0.91      0.74      0.82      4042\n",
            "       I-art       0.00      0.00      0.00        66\n",
            "       I-eve       0.00      0.00      0.00        53\n",
            "       I-geo       0.73      0.63      0.67      1473\n",
            "       I-gpe       0.00      0.00      0.00        50\n",
            "       I-nat       0.00      0.00      0.00        19\n",
            "       I-org       0.70      0.62      0.66      3505\n",
            "       I-per       0.77      0.80      0.78      3594\n",
            "       I-tim       0.85      0.35      0.50      1216\n",
            "           O       1.00      1.00      1.00    952411\n",
            "\n",
            "    accuracy                           0.99    985040\n",
            "   macro avg       0.48      0.41      0.43    985040\n",
            "weighted avg       0.99      0.99      0.99    985040\n",
            "\n"
          ],
          "name": "stdout"
        }
      ]
    },
    {
      "cell_type": "code",
      "metadata": {
        "id": "KATgz7rai4Nw",
        "colab_type": "code",
        "colab": {}
      },
      "source": [
        ""
      ],
      "execution_count": 0,
      "outputs": []
    },
    {
      "cell_type": "markdown",
      "metadata": {
        "id": "kbfPgJr-xsT2",
        "colab_type": "text"
      },
      "source": [
        "### Test model locally"
      ]
    },
    {
      "cell_type": "code",
      "metadata": {
        "id": "uhVOI-8nSg4L",
        "colab_type": "code",
        "colab": {}
      },
      "source": [
        "\n",
        "reverse_word_map = dict(map(reversed, processor._tokenizer.word_index.items()))\n",
        "#test = reverse_word_map.get(1)\n",
        "#test\n"
      ],
      "execution_count": 0,
      "outputs": []
    },
    {
      "cell_type": "code",
      "metadata": {
        "id": "pvuFls8sQgRt",
        "colab_type": "code",
        "outputId": "bee4f5a2-8443-4705-963f-2a0e1ca6da8d",
        "colab": {
          "base_uri": "https://localhost:8080/",
          "height": 2414
        }
      },
      "source": [
        "i = 22\n",
        "p = model.predict(np.array([X_test[i]]))\n",
        "p = np.argmax(p, axis=-1)\n",
        "print(\"{:14} ({:5}): {}\".format(\"Word\", \"True\", \"Pred\"))\n",
        "for w,pred in zip(X_test[i],p[0]):\n",
        "    \n",
        "    print(\"{:14}: {}\".format(reverse_word_map.get(w),tags[pred]))"
      ],
      "execution_count": 45,
      "outputs": [
        {
          "output_type": "stream",
          "text": [
            "Word           (True ): Pred\n",
            "The           : O\n",
            "State         : B-org\n",
            "Department    : I-org\n",
            "has           : O\n",
            "not           : O\n",
            "yet           : O\n",
            "responded     : O\n",
            ".             : O\n",
            "3700          : O\n",
            "3700          : O\n",
            "3700          : O\n",
            "3700          : O\n",
            "3700          : O\n",
            "3700          : O\n",
            "3700          : O\n",
            "3700          : O\n",
            "3700          : O\n",
            "3700          : O\n",
            "3700          : O\n",
            "3700          : O\n",
            "3700          : O\n",
            "3700          : O\n",
            "3700          : O\n",
            "3700          : O\n",
            "3700          : O\n",
            "3700          : O\n",
            "3700          : O\n",
            "3700          : O\n",
            "3700          : O\n",
            "3700          : O\n",
            "3700          : O\n",
            "3700          : O\n",
            "3700          : O\n",
            "3700          : O\n",
            "3700          : O\n",
            "3700          : O\n",
            "3700          : O\n",
            "3700          : O\n",
            "3700          : O\n",
            "3700          : O\n",
            "3700          : O\n",
            "3700          : O\n",
            "3700          : O\n",
            "3700          : O\n",
            "3700          : O\n",
            "3700          : O\n",
            "3700          : O\n",
            "3700          : O\n",
            "3700          : O\n",
            "3700          : O\n",
            "3700          : O\n",
            "3700          : O\n",
            "3700          : O\n",
            "3700          : O\n",
            "3700          : O\n",
            "3700          : O\n",
            "3700          : O\n",
            "3700          : O\n",
            "3700          : O\n",
            "3700          : O\n",
            "3700          : O\n",
            "3700          : O\n",
            "3700          : O\n",
            "3700          : O\n",
            "3700          : O\n",
            "3700          : O\n",
            "3700          : O\n",
            "3700          : O\n",
            "3700          : O\n",
            "3700          : O\n",
            "3700          : O\n",
            "3700          : O\n",
            "3700          : O\n",
            "3700          : O\n",
            "3700          : O\n",
            "3700          : O\n",
            "3700          : O\n",
            "3700          : O\n",
            "3700          : O\n",
            "3700          : O\n",
            "3700          : O\n",
            "3700          : O\n",
            "3700          : O\n",
            "3700          : O\n",
            "3700          : O\n",
            "3700          : O\n",
            "3700          : O\n",
            "3700          : O\n",
            "3700          : O\n",
            "3700          : O\n",
            "3700          : O\n",
            "3700          : O\n",
            "3700          : O\n",
            "3700          : O\n",
            "3700          : O\n",
            "3700          : O\n",
            "3700          : O\n",
            "3700          : O\n",
            "3700          : O\n",
            "3700          : O\n",
            "3700          : O\n",
            "3700          : O\n",
            "3700          : O\n",
            "3700          : O\n",
            "3700          : O\n",
            "3700          : O\n",
            "3700          : O\n",
            "3700          : O\n",
            "3700          : O\n",
            "3700          : O\n",
            "3700          : O\n",
            "3700          : O\n",
            "3700          : O\n",
            "3700          : O\n",
            "3700          : O\n",
            "3700          : O\n",
            "3700          : O\n",
            "3700          : O\n",
            "3700          : O\n",
            "3700          : O\n",
            "3700          : O\n",
            "3700          : O\n",
            "3700          : O\n",
            "3700          : O\n",
            "3700          : O\n",
            "3700          : O\n",
            "3700          : O\n",
            "3700          : O\n",
            "3700          : O\n",
            "3700          : O\n",
            "3700          : O\n",
            "3700          : O\n",
            "3700          : O\n",
            "3700          : O\n",
            "3700          : O\n",
            "3700          : O\n",
            "3700          : O\n",
            "3700          : O\n",
            "3700          : O\n",
            "3700          : O\n"
          ],
          "name": "stdout"
        }
      ]
    },
    {
      "cell_type": "markdown",
      "metadata": {
        "id": "pzLeECYsaehZ",
        "colab_type": "text"
      },
      "source": [
        "##Google AI Platform"
      ]
    },
    {
      "cell_type": "markdown",
      "metadata": {
        "id": "nMTchf5gxNbu",
        "colab_type": "text"
      },
      "source": [
        "### Custom prediction route"
      ]
    },
    {
      "cell_type": "code",
      "metadata": {
        "id": "MPdxdxuaaeKw",
        "colab_type": "code",
        "outputId": "2ca7c8b5-bb1f-460f-eb41-46396e82b660",
        "colab": {
          "base_uri": "https://localhost:8080/",
          "height": 34
        }
      },
      "source": [
        "%%writefile model_prediction.py\n",
        "\n",
        "import os\n",
        "import pickle\n",
        "import numpy as np\n",
        "\n",
        "\n",
        "class CustomModelPrediction(object):\n",
        "\n",
        "  def __init__(self, model, processor):\n",
        "    self._model = model\n",
        "    self._processor = processor\n",
        "\n",
        "  def postprocess(self, predictions):\n",
        "    labeled_predictions = []\n",
        "    \n",
        "    for prediction in predictions:\n",
        "      labeled_prediction = []\n",
        "      for word_prediction in prediction:\n",
        "        labeled_prediction.append(self._processor.labels[word_prediction])\n",
        "      labeled_predictions.append(labeled_prediction)\n",
        "    \n",
        "    return labeled_predictions\n",
        "    \n",
        "  def predict(self, instances, **kwargs):\n",
        "    transformed_instances = self._processor.transform(instances)\n",
        "    predictions = self._model.predict(np.array(transformed_instances))\n",
        "    predictions = np.argmax(predictions, axis=-1).tolist()\n",
        "\n",
        "    labels = self.postprocess(predictions)\n",
        "    return labels\n",
        "    #return predictions\n",
        "\n",
        "\n",
        "  @classmethod\n",
        "  def from_path(cls, model_dir):\n",
        "    import tensorflow.keras as keras\n",
        "    model = keras.models.load_model(\n",
        "      os.path.join(model_dir,'keras_saved_model.h5'))\n",
        "    with open(os.path.join(model_dir, 'processor_state.pkl'), 'rb') as f:\n",
        "      processor = pickle.load(f)\n",
        "\n",
        "    return cls(model, processor)"
      ],
      "execution_count": 50,
      "outputs": [
        {
          "output_type": "stream",
          "text": [
            "Overwriting model_prediction.py\n"
          ],
          "name": "stdout"
        }
      ]
    },
    {
      "cell_type": "markdown",
      "metadata": {
        "id": "fCpjmPhuxU2T",
        "colab_type": "text"
      },
      "source": [
        "### Test custom prediction route locally"
      ]
    },
    {
      "cell_type": "code",
      "metadata": {
        "id": "vNw32TWdaeTY",
        "colab_type": "code",
        "outputId": "6f9cf8ee-3295-49ec-89b5-c82493cd7866",
        "colab": {
          "base_uri": "https://localhost:8080/",
          "height": 258
        }
      },
      "source": [
        "from model_prediction import CustomModelPrediction\n",
        "\n",
        "classifier = CustomModelPrediction.from_path('.')\n",
        "results = classifier.predict(['New York on Monday'])\n",
        "print(results)"
      ],
      "execution_count": 51,
      "outputs": [
        {
          "output_type": "stream",
          "text": [
            "W0616 11:43:46.898596 139880807655296 deprecation.py:506] From /usr/local/lib/python3.6/dist-packages/tensorflow/python/keras/initializers.py:119: calling RandomUniform.__init__ (from tensorflow.python.ops.init_ops) with dtype is deprecated and will be removed in a future version.\n",
            "Instructions for updating:\n",
            "Call initializer instance with the dtype argument instead of passing it to the constructor\n",
            "W0616 11:43:46.911922 139880807655296 deprecation.py:506] From /usr/local/lib/python3.6/dist-packages/tensorflow/python/ops/init_ops.py:97: calling VarianceScaling.__init__ (from tensorflow.python.ops.init_ops) with dtype is deprecated and will be removed in a future version.\n",
            "Instructions for updating:\n",
            "Call initializer instance with the dtype argument instead of passing it to the constructor\n",
            "W0616 11:43:46.913149 139880807655296 deprecation.py:506] From /usr/local/lib/python3.6/dist-packages/tensorflow/python/ops/init_ops.py:97: calling Orthogonal.__init__ (from tensorflow.python.ops.init_ops) with dtype is deprecated and will be removed in a future version.\n",
            "Instructions for updating:\n",
            "Call initializer instance with the dtype argument instead of passing it to the constructor\n",
            "W0616 11:43:46.914144 139880807655296 deprecation.py:506] From /usr/local/lib/python3.6/dist-packages/tensorflow/python/ops/init_ops.py:97: calling Zeros.__init__ (from tensorflow.python.ops.init_ops) with dtype is deprecated and will be removed in a future version.\n",
            "Instructions for updating:\n",
            "Call initializer instance with the dtype argument instead of passing it to the constructor\n"
          ],
          "name": "stderr"
        },
        {
          "output_type": "stream",
          "text": [
            "[['B-geo', 'I-geo', 'O', 'B-tim', 'O', 'O', 'O', 'O', 'O', 'O', 'O', 'O', 'O', 'O', 'O', 'O', 'O', 'O', 'O', 'O', 'O', 'O', 'O', 'O', 'O', 'O', 'O', 'O', 'O', 'O', 'O', 'O', 'O', 'O', 'O', 'O', 'O', 'O', 'O', 'O', 'O', 'O', 'O', 'O', 'O', 'O', 'O', 'O', 'O', 'O', 'O', 'O', 'O', 'O', 'O', 'O', 'O', 'O', 'O', 'O', 'O', 'O', 'O', 'O', 'O', 'O', 'O', 'O', 'O', 'O', 'O', 'O', 'O', 'O', 'O', 'O', 'O', 'O', 'O', 'O', 'O', 'O', 'O', 'O', 'O', 'O', 'O', 'O', 'O', 'O', 'O', 'O', 'O', 'O', 'O', 'O', 'O', 'O', 'O', 'O', 'O', 'O', 'O', 'O', 'O', 'O', 'O', 'O', 'O', 'O', 'O', 'O', 'O', 'O', 'O', 'O', 'O', 'O', 'O', 'O', 'O', 'O', 'O', 'O', 'O', 'O', 'O', 'O', 'O', 'O', 'O', 'O', 'O', 'O', 'O', 'O', 'O', 'O', 'O', 'O']]\n"
          ],
          "name": "stdout"
        }
      ]
    },
    {
      "cell_type": "markdown",
      "metadata": {
        "id": "MBGEwzMUhWKG",
        "colab_type": "text"
      },
      "source": [
        "### Environment variables"
      ]
    },
    {
      "cell_type": "code",
      "metadata": {
        "id": "WSJkxlQjhV0D",
        "colab_type": "code",
        "colab": {}
      },
      "source": [
        "import os\n",
        "\n",
        "PROJECT='machine-learning-sascha' \n",
        "BUCKET='sascha-ml-engine'\n",
        "\n",
        "ROOT='keras_named_entity_recognition'\n",
        "MODEL_DIR=os.path.join(ROOT,'models')\n",
        "PACKAGES_DIR=os.path.join(ROOT,'packages')"
      ],
      "execution_count": 0,
      "outputs": []
    },
    {
      "cell_type": "markdown",
      "metadata": {
        "id": "h0jPWvcKh7QQ",
        "colab_type": "text"
      },
      "source": [
        "### GCP set project"
      ]
    },
    {
      "cell_type": "code",
      "metadata": {
        "id": "fd1zHCZgh-v5",
        "colab_type": "code",
        "colab": {}
      },
      "source": [
        "!gcloud config set project {PROJECT}"
      ],
      "execution_count": 0,
      "outputs": []
    },
    {
      "cell_type": "markdown",
      "metadata": {
        "id": "47vc1J-yiAGD",
        "colab_type": "text"
      },
      "source": [
        "### GCP cleanup bucket"
      ]
    },
    {
      "cell_type": "code",
      "metadata": {
        "id": "dUYYpMXbiB4o",
        "colab_type": "code",
        "colab": {}
      },
      "source": [
        "# cleanup\n",
        "!gsutil rm -r gs://{BUCKET}/{ROOT}"
      ],
      "execution_count": 0,
      "outputs": []
    },
    {
      "cell_type": "markdown",
      "metadata": {
        "id": "o5y8h-aZiKwy",
        "colab_type": "text"
      },
      "source": [
        "### Copy model and processor state to GCS bucket"
      ]
    },
    {
      "cell_type": "code",
      "metadata": {
        "id": "ZWx8fY4FiNcf",
        "colab_type": "code",
        "colab": {}
      },
      "source": [
        "!gsutil cp keras_saved_model.h5 gs://{BUCKET}/{MODEL_DIR}/\n",
        "!gsutil cp processor_state.pkl gs://{BUCKET}/{MODEL_DIR}/"
      ],
      "execution_count": 0,
      "outputs": []
    },
    {
      "cell_type": "markdown",
      "metadata": {
        "id": "NjRZ9QwQhLPt",
        "colab_type": "text"
      },
      "source": [
        "### Package files"
      ]
    },
    {
      "cell_type": "code",
      "metadata": {
        "id": "_-uiT_K0aenj",
        "colab_type": "code",
        "colab": {}
      },
      "source": [
        "%%writefile setup.py\n",
        "\n",
        "from setuptools import find_packages\n",
        "from setuptools import setup\n",
        "\n",
        "REQUIRED_PACKAGES = [\n",
        "    'Keras==2.2.4'\n",
        "]\n",
        "\n",
        "setup(\n",
        "  name=\"my_package\",\n",
        "  version=\"0.1\",\n",
        "  include_package_data=True,\n",
        "  install_requires=REQUIRED_PACKAGES,\n",
        "  packages=find_packages(),\n",
        "  scripts=[\"preprocess.py\", \"model_prediction.py\"]\n",
        ")"
      ],
      "execution_count": 0,
      "outputs": []
    },
    {
      "cell_type": "code",
      "metadata": {
        "id": "ZmQGc33ChOG6",
        "colab_type": "code",
        "colab": {}
      },
      "source": [
        "!python setup.py sdist\n",
        "!gsutil cp ./dist/my_package-0.1.tar.gz gs://{BUCKET}/{PACKAGES_DIR}/my_package-0.1.tar.gz"
      ],
      "execution_count": 0,
      "outputs": []
    },
    {
      "cell_type": "markdown",
      "metadata": {
        "id": "hGdmfT6ThzoK",
        "colab_type": "text"
      },
      "source": [
        "### Deploy model"
      ]
    },
    {
      "cell_type": "code",
      "metadata": {
        "id": "nGTC-cvkh0nS",
        "colab_type": "code",
        "colab": {}
      },
      "source": [
        "MODEL_NAME='keras_ner'\n",
        "VERSION_NAME='v1'\n",
        "RUNTIME_VERSION='1.13'\n",
        "REGION='us-central1'"
      ],
      "execution_count": 0,
      "outputs": []
    },
    {
      "cell_type": "code",
      "metadata": {
        "id": "pSdeFNyKh1xx",
        "colab_type": "code",
        "colab": {}
      },
      "source": [
        "!gcloud ai-platform models create {MODEL_NAME} --regions {REGION}"
      ],
      "execution_count": 0,
      "outputs": []
    },
    {
      "cell_type": "code",
      "metadata": {
        "id": "Jvu3lmj0h2wm",
        "colab_type": "code",
        "colab": {}
      },
      "source": [
        "!gcloud ai-platform versions delete {VERSION_NAME} --model {MODEL_NAME} --quiet"
      ],
      "execution_count": 0,
      "outputs": []
    },
    {
      "cell_type": "code",
      "metadata": {
        "id": "Av9c-3raiZ1n",
        "colab_type": "code",
        "colab": {}
      },
      "source": [
        "!gcloud beta ai-platform versions create {VERSION_NAME} --model {MODEL_NAME} \\\n",
        "--origin=gs://{BUCKET}/{MODEL_DIR}/ \\\n",
        "--python-version=3.5 \\\n",
        "--runtime-version={RUNTIME_VERSION} \\\n",
        "--package-uris=gs://{BUCKET}/{PACKAGES_DIR}/my_package-0.1.tar.gz \\\n",
        "--prediction-class=model_prediction.CustomModelPrediction"
      ],
      "execution_count": 0,
      "outputs": []
    },
    {
      "cell_type": "markdown",
      "metadata": {
        "id": "yp86cDXtif1q",
        "colab_type": "text"
      },
      "source": [
        "### Online prediction\n",
        "https://cloud.google.com/ml-engine/reference/rest/v1/projects/predict\n",
        "\n",
        "https://cloud.google.com/ml-engine/docs/v1/predict-request\n",
        "\n",
        "The instances[] object is required, and must contain the list of instances to get predictions for.\n",
        "\n",
        "The structure of each element of the instances list is determined by your model's input definition. Instances can include named inputs (as objects) or can contain only unlabeled values.\n",
        "\n",
        "Not all data includes named inputs. Some instances are simple JSON values (boolean, number, or string). However, instances are often lists of simple values, or complex nested lists.\n",
        "\n",
        "In our case we send plain text where we want to get the predictions for {\"instances\": [\"the quick brown fox\", \"la bruja le dio\"]}"
      ]
    },
    {
      "cell_type": "code",
      "metadata": {
        "id": "6Jo9Wjpcigp7",
        "colab_type": "code",
        "colab": {}
      },
      "source": [
        "from googleapiclient import discovery\n",
        "from oauth2client.client import GoogleCredentials\n",
        "import json\n",
        "\n",
        "requests = ['Barack Obama arrived in London on Monday evening']\n",
        "request_data = {'instances': requests}\n",
        "\n",
        "print(request_data)\n",
        "\n",
        "credentials = GoogleCredentials.get_application_default()\n",
        "api = discovery.build(\n",
        "  'ml', 'v1', credentials=credentials,\n",
        "  discoveryServiceUrl='https://storage.googleapis.com/cloud-ml/discovery/ml_v1_discovery.json')\n",
        "\n",
        "parent = 'projects/{}/models/{}/versions/{}'.format(PROJECT, MODEL_NAME, VERSION_NAME)\n",
        "print(parent)\n",
        "print(\"Model full name: {}\".format(parent))\n",
        "response = api.projects().predict(body=request_data, name=parent).execute()\n",
        "print(response)\n"
      ],
      "execution_count": 0,
      "outputs": []
    },
    {
      "cell_type": "code",
      "metadata": {
        "id": "fbJsxBNNKPmf",
        "colab_type": "code",
        "colab": {}
      },
      "source": [
        "### Hyperparameter Results"
      ],
      "execution_count": 0,
      "outputs": []
    },
    {
      "cell_type": "markdown",
      "metadata": {
        "id": "6rkuF2-_-YO1",
        "colab_type": "text"
      },
      "source": [
        "### Hyperparameter Results\n"
      ]
    },
    {
      "cell_type": "code",
      "metadata": {
        "id": "Tfk5BPzU-Qcl",
        "colab_type": "code",
        "colab": {}
      },
      "source": [
        "from googleapiclient import discovery\n",
        "from oauth2client.client import GoogleCredentials\n",
        "credentials = GoogleCredentials.get_application_default()\n",
        "\n",
        "import json\n",
        "\n",
        "\n",
        "PROJECT_ID='machine-learning-sascha'\n",
        "JOB_NAME='ner_2019_06_11_16_13_47'\n",
        "\n",
        "ml = discovery.build('ml', 'v1', credentials=credentials)\n",
        "request = ml.projects().jobs().get(name='projects/{}/jobs/{}'.format(PROJECT_ID, JOB_NAME)).execute()\n",
        "\n",
        "\n",
        "best_model = request['trainingOutput']['trials'][0]\n",
        "print('Best Hyperparameters:')\n",
        "print(json.dumps(best_model, indent=4))\n",
        "\n"
      ],
      "execution_count": 0,
      "outputs": []
    },
    {
      "cell_type": "code",
      "metadata": {
        "id": "M4qQ0i2Y-Q7_",
        "colab_type": "code",
        "colab": {}
      },
      "source": [
        ""
      ],
      "execution_count": 0,
      "outputs": []
    }
  ]
}