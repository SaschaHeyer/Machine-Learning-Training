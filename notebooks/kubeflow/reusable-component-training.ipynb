{
 "cells": [
  {
   "cell_type": "markdown",
   "metadata": {},
   "source": [
    "## Setup"
   ]
  },
  {
   "cell_type": "code",
   "execution_count": 138,
   "metadata": {},
   "outputs": [],
   "source": [
    "EXPERIMENT_NAME = 'lightweight-component-with-reusable-component-training-3'"
   ]
  },
  {
   "cell_type": "code",
   "execution_count": 139,
   "metadata": {},
   "outputs": [],
   "source": [
    "#REVERSE_IMAGE = 'gcr.io/ml-pipeline/ml-pipeline-dataflow-tfdv:6554e133dd453c62aea05ebb57a04f897c11d070'\n",
    "REVERSE_IMAGE = 'gcr.io/spielwiese-sascha-heyer/kubeflow/training/component:latest'"
   ]
  },
  {
   "cell_type": "markdown",
   "metadata": {},
   "source": [
    "## Define the pipeline"
   ]
  },
  {
   "cell_type": "code",
   "execution_count": 140,
   "metadata": {},
   "outputs": [],
   "source": [
    "import kfp\n",
    "from kfp import compiler\n",
    "import kfp.components as comp\n",
    "import kfp.dsl as dsl\n",
    "from kfp import gcp"
   ]
  },
  {
   "cell_type": "code",
   "execution_count": null,
   "metadata": {},
   "outputs": [],
   "source": []
  },
  {
   "cell_type": "code",
   "execution_count": 141,
   "metadata": {},
   "outputs": [],
   "source": [
    "reverse_operation = kfp.components.load_component_from_url('https://storage.googleapis.com/spielwiese-sascha-heyer/test6/component.yaml')\n"
   ]
  },
  {
   "cell_type": "code",
   "execution_count": 142,
   "metadata": {},
   "outputs": [],
   "source": [
    "def concat(first: str, second: str) -> str:\n",
    "   return first + second"
   ]
  },
  {
   "cell_type": "code",
   "execution_count": 143,
   "metadata": {},
   "outputs": [],
   "source": [
    "concat_operation = comp.func_to_container_op(concat)"
   ]
  },
  {
   "cell_type": "code",
   "execution_count": 144,
   "metadata": {},
   "outputs": [],
   "source": [
    "@dsl.pipeline(\n",
    "  name='test',\n",
    "  description='test'\n",
    ")\n",
    "def text_transformation_pipeline(first, second):\n",
    "    \n",
    "    concat_task = concat_operation(first, second) \n",
    "    \n",
    "    #reverse_operation = dsl.ContainerOp(\n",
    "    #            name=\"reverse\",\n",
    "    #            image=REVERSE_IMAGE,\n",
    "    #            command=[\"python3\", \"/pipelines/component/src/component.py\"],\n",
    "    #            arguments=[\n",
    "    #                '--input-text', concat_task.output,\n",
    "    #            ],\n",
    "    #            file_outputs={\n",
    "    #                'text': '/text.txt',\n",
    "    #            }\n",
    "    #        )\n",
    "    \n",
    "    reverse = reverse_operation(text=concat_task.output).apply(kfp.gcp.use_gcp_secret('user-gcp-sa')) \n",
    "    \n",
    "    "
   ]
  },
  {
   "cell_type": "code",
   "execution_count": 145,
   "metadata": {},
   "outputs": [],
   "source": [
    "pipeline_func = text_transformation_pipeline\n",
    "pipeline_filename = pipeline_func.__name__ + '.pipeline.zip'\n",
    "\n",
    "import kfp.compiler as compiler\n",
    "compiler.Compiler().compile(text_transformation_pipeline, pipeline_filename)"
   ]
  },
  {
   "cell_type": "code",
   "execution_count": 146,
   "metadata": {},
   "outputs": [
    {
     "name": "stdout",
     "output_type": "stream",
     "text": [
      "{'created_at': datetime.datetime(2019, 6, 14, 7, 54, 30, tzinfo=tzlocal()),\n",
      " 'description': None,\n",
      " 'id': '6952f36d-5628-4976-9c48-7f5db5238664',\n",
      " 'name': 'lightweight-component-with-reusable-component-training-3'}\n"
     ]
    }
   ],
   "source": [
    "#Specify pipeline argument values\n",
    "arguments = {'first': 'dess', 'second': 'erts'}\n",
    "\n",
    "#Get or create an experiment and submit a pipeline run\n",
    "import kfp\n",
    "client = kfp.Client()\n",
    "#experiment = client.create_experiment(EXPERIMENT_NAME)\n",
    "experiment = client.get_experiment(experiment_name=EXPERIMENT_NAME)\n",
    "print(experiment)"
   ]
  },
  {
   "cell_type": "code",
   "execution_count": 147,
   "metadata": {},
   "outputs": [
    {
     "data": {
      "text/html": [
       "Run link <a href=\"/pipeline/#/runs/details/05d095ee-8ef0-11e9-ba22-42010a8001ad\" target=\"_blank\" >here</a>"
      ],
      "text/plain": [
       "<IPython.core.display.HTML object>"
      ]
     },
     "metadata": {},
     "output_type": "display_data"
    }
   ],
   "source": [
    "#Submit a pipeline run\n",
    "run_name = pipeline_func.__name__ + ' run'\n",
    "run_result = client.run_pipeline(experiment.id, run_name, pipeline_filename, arguments)"
   ]
  },
  {
   "cell_type": "code",
   "execution_count": null,
   "metadata": {},
   "outputs": [],
   "source": []
  },
  {
   "cell_type": "code",
   "execution_count": null,
   "metadata": {},
   "outputs": [],
   "source": []
  }
 ],
 "metadata": {
  "kernelspec": {
   "display_name": "Python 3",
   "language": "python",
   "name": "python3"
  },
  "language_info": {
   "codemirror_mode": {
    "name": "ipython",
    "version": 3
   },
   "file_extension": ".py",
   "mimetype": "text/x-python",
   "name": "python",
   "nbconvert_exporter": "python",
   "pygments_lexer": "ipython3",
   "version": "3.6.7"
  }
 },
 "nbformat": 4,
 "nbformat_minor": 2
}
