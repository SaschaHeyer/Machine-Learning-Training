{
 "cells": [
  {
   "cell_type": "markdown",
   "metadata": {},
   "source": [
    "## Setup"
   ]
  },
  {
   "cell_type": "code",
   "execution_count": 30,
   "metadata": {},
   "outputs": [],
   "source": [
    "EXPERIMENT_NAME = 'reusable-component-training'"
   ]
  },
  {
   "cell_type": "markdown",
   "metadata": {},
   "source": [
    "## Define the pipeline"
   ]
  },
  {
   "cell_type": "code",
   "execution_count": 31,
   "metadata": {},
   "outputs": [],
   "source": [
    "import kfp\n",
    "from kfp import compiler\n",
    "import kfp.compiler as compiler\n",
    "import kfp.components as comp\n",
    "import kfp.dsl as dsl\n",
    "from kfp import gcp"
   ]
  },
  {
   "cell_type": "code",
   "execution_count": 40,
   "metadata": {},
   "outputs": [
    {
     "name": "stdout",
     "output_type": "stream",
     "text": [
      "Help on function Training - Concat Text:\n",
      "\n",
      "Training - Concat Text(first:'String', second:'String')\n",
      "    Takes two strings and concats them\n",
      "\n",
      "Help on function Training - Reverse Text:\n",
      "\n",
      "Training - Reverse Text(text:'String')\n",
      "    Takes text and reverse its content\n",
      "\n"
     ]
    }
   ],
   "source": [
    "concat_operation = kfp.components.load_component_from_url(\n",
    "    'https://raw.githubusercontent.com/SaschaHeyer/Machine-Learning-Training/master/kubeflow/reusable-component-training/concat/component.yaml')\n",
    "help(concat_operation)\n",
    "\n",
    "reverse_operation = kfp.components.load_component_from_url(\n",
    "    'https://raw.githubusercontent.com/SaschaHeyer/Machine-Learning-Training/master/kubeflow/reusable-component-training/reverse/component.yaml')\n",
    "help(reverse_operation)"
   ]
  },
  {
   "cell_type": "markdown",
   "metadata": {},
   "source": [
    "## Build the Pipeline Function"
   ]
  },
  {
   "cell_type": "code",
   "execution_count": 33,
   "metadata": {},
   "outputs": [],
   "source": [
    "\n",
    "@dsl.pipeline( # dsl decoreator\n",
    "  name='Text transformation pipeline',\n",
    "  description='A pipeline which concats and reverse strings'\n",
    ")\n",
    "def text_transformation_pipeline(first, second):\n",
    "    \n",
    "    ## concat the strings\n",
    "    concat = concat_operation(\n",
    "        first=first,\n",
    "        second=second\n",
    "    ).apply(kfp.gcp.use_gcp_secret('user-gcp-sa')) \n",
    "    \n",
    "    ## reverse the outout of the previous component\n",
    "    reverse = reverse_operation(\n",
    "        text=concat.output\n",
    "    ).apply(kfp.gcp.use_gcp_secret('user-gcp-sa')) \n",
    "    \n",
    "    "
   ]
  },
  {
   "cell_type": "markdown",
   "metadata": {},
   "source": [
    "# Compile the Pipeline"
   ]
  },
  {
   "cell_type": "code",
   "execution_count": 34,
   "metadata": {},
   "outputs": [],
   "source": [
    "pipeline_func = text_transformation_pipeline\n",
    "pipeline_filename = pipeline_func.__name__ + '.pipeline.zip'\n",
    "\n",
    "compiler.Compiler().compile(text_transformation_pipeline, \n",
    "                            pipeline_filename)"
   ]
  },
  {
   "cell_type": "markdown",
   "metadata": {},
   "source": [
    "# Create a Kubeflow Experiment\n",
    "Get or create an experiment and submit a pipeline run"
   ]
  },
  {
   "cell_type": "code",
   "execution_count": 39,
   "metadata": {},
   "outputs": [
    {
     "name": "stdout",
     "output_type": "stream",
     "text": [
      "{'created_at': datetime.datetime(2019, 6, 26, 14, 24, 19, tzinfo=tzlocal()),\n",
      " 'description': None,\n",
      " 'id': '270e9ad8-5118-41a2-91ea-3cbc05d8b054',\n",
      " 'name': 'reusable-component-training'}\n"
     ]
    }
   ],
   "source": [
    "client = kfp.Client()\n",
    "\n",
    "try:\n",
    "    experiment = client.get_experiment(experiment_name=EXPERIMENT_NAME)\n",
    "except:\n",
    "    experiment = client.create_experiment(EXPERIMENT_NAME)\n",
    "    \n",
    "print(experiment)"
   ]
  },
  {
   "cell_type": "markdown",
   "metadata": {},
   "source": [
    "# Run the Pipeline"
   ]
  },
  {
   "cell_type": "code",
   "execution_count": 37,
   "metadata": {},
   "outputs": [
    {
     "data": {
      "text/html": [
       "Run link <a href=\"/pipeline/#/runs/details/17b8c114-981e-11e9-b59f-42010a80018d\" target=\"_blank\" >here</a>"
      ],
      "text/plain": [
       "<IPython.core.display.HTML object>"
      ]
     },
     "metadata": {},
     "output_type": "display_data"
    },
    {
     "name": "stdout",
     "output_type": "stream",
     "text": [
      "270e9ad8-5118-41a2-91ea-3cbc05d8b054\n",
      "text_transformation_pipeline run\n",
      "text_transformation_pipeline.pipeline.zip\n",
      "{'first': 'dess', 'second': 'erts'}\n"
     ]
    }
   ],
   "source": [
    "#Specify pipeline argument values\n",
    "arguments = {'first': 'dess', 'second': 'erts'}\n",
    "\n",
    "run_name = pipeline_func.__name__ + ' run'\n",
    "run_result = client.run_pipeline(experiment.id, \n",
    "                                 run_name, \n",
    "                                 pipeline_filename, \n",
    "                                 arguments)\n",
    "\n",
    "print(experiment.id)\n",
    "print(run_name)\n",
    "print(pipeline_filename)\n",
    "print(arguments)"
   ]
  },
  {
   "cell_type": "code",
   "execution_count": null,
   "metadata": {},
   "outputs": [],
   "source": []
  }
 ],
 "metadata": {
  "kernelspec": {
   "display_name": "Python 3",
   "language": "python",
   "name": "python3"
  },
  "language_info": {
   "codemirror_mode": {
    "name": "ipython",
    "version": 3
   },
   "file_extension": ".py",
   "mimetype": "text/x-python",
   "name": "python",
   "nbconvert_exporter": "python",
   "pygments_lexer": "ipython3",
   "version": "3.6.7"
  }
 },
 "nbformat": 4,
 "nbformat_minor": 2
}
